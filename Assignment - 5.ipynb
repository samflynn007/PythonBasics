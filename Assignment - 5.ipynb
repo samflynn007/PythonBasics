{
 "cells": [
  {
   "cell_type": "markdown",
   "id": "c2364dcd",
   "metadata": {},
   "source": [
    "1. What does an empty dictionary? \n",
    "\n",
    "   Answer:  empty_dict = {}\n"
   ]
  },
  {
   "cell_type": "markdown",
   "id": "496a60bf",
   "metadata": {},
   "source": [
    "2. What is the value of a dictionary value with the key 'foo' and the value 42? \n",
    "\n",
    "   Answer: dict = {'foo': 42}"
   ]
  },
  {
   "cell_type": "markdown",
   "id": "8a65636c",
   "metadata": {},
   "source": [
    "3. What is the most significant distinction between a dictionary and a list?\n",
    "\n",
    "\n",
    "   Answer:  The items stored in a dictionary are unordered, while the items in a list are ordered.\n",
    "\n"
   ]
  },
  {
   "cell_type": "markdown",
   "id": "22d694be",
   "metadata": {},
   "source": [
    "4. What happens if you try to access spam['foo'] if spam is {'bar': 100}?\n",
    "\n",
    "    Answer : we will  get a KeyError error."
   ]
  },
  {
   "cell_type": "markdown",
   "id": "feb3934f",
   "metadata": {},
   "source": [
    "5. If a dictionary is stored in spam, what is the difference between the expressions 'cat' in spam and\n",
    "'cat' in spam.keys()?\n",
    "\n",
    "  Answer : There is no difference. The in operator checks whether a value exists as a key in the dictionary.\n"
   ]
  },
  {
   "cell_type": "markdown",
   "id": "9adc72db",
   "metadata": {},
   "source": [
    "6. If a dictionary is stored in spam, what is the difference between the expressions &#39;cat&#39; in spam and 'cat' in spam.values()?\n",
    "    Answer : 'cat' in spam checks whether there is a 'cat' key in the dictionary, while 'cat' in spam.values() checks               whether there is a value 'cat' for one of the keys in spam.\n"
   ]
  },
  {
   "cell_type": "markdown",
   "id": "58b81976",
   "metadata": {},
   "source": [
    "7. What is a shortcut for the following code?\n",
    "        if 'color' not in spam:\n",
    "              spam['color'] = 'black'\n",
    "\n",
    "\n",
    "      Answer: spam.setdefault('color', 'black')\n",
    "\n",
    "\n",
    "\n"
   ]
  },
  {
   "cell_type": "markdown",
   "id": "75cb47af",
   "metadata": {},
   "source": [
    "8. How do you \"pretty print\" dictionary values using which module and function?\n",
    "\n",
    "   Answer: pprint.pprint()"
   ]
  },
  {
   "cell_type": "code",
   "execution_count": null,
   "id": "934510ad",
   "metadata": {},
   "outputs": [],
   "source": []
  },
  {
   "cell_type": "code",
   "execution_count": null,
   "id": "3d6a0d86",
   "metadata": {},
   "outputs": [],
   "source": []
  },
  {
   "cell_type": "code",
   "execution_count": null,
   "id": "e018e9fa",
   "metadata": {},
   "outputs": [],
   "source": []
  }
 ],
 "metadata": {
  "kernelspec": {
   "display_name": "Python 3 (ipykernel)",
   "language": "python",
   "name": "python3"
  },
  "language_info": {
   "codemirror_mode": {
    "name": "ipython",
    "version": 3
   },
   "file_extension": ".py",
   "mimetype": "text/x-python",
   "name": "python",
   "nbconvert_exporter": "python",
   "pygments_lexer": "ipython3",
   "version": "3.9.12"
  }
 },
 "nbformat": 4,
 "nbformat_minor": 5
}
