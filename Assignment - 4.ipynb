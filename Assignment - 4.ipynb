{
 "cells": [
  {
   "cell_type": "markdown",
   "id": "adfac317",
   "metadata": {},
   "source": [
    "1. What exactly is []?\n",
    "\n",
    "\n",
    "The empty list value, which is a list value that contains no items.\n"
   ]
  },
  {
   "cell_type": "markdown",
   "id": "d9fdd56a",
   "metadata": {},
   "source": [
    "2. In a list of values stored in a variable called spam, how would you assign the value 'hello' as the third value? (Assume [2, 4, 6, 8, 10] are in spam.)\n",
    "Let's pretend the spam includes the list ['a', 'b', 'c', 'd'] for the next three queries.\n",
    "\n",
    "spam[2] = 'hello'\n"
   ]
  },
  {
   "cell_type": "code",
   "execution_count": 1,
   "id": "cc4fc007",
   "metadata": {},
   "outputs": [
    {
     "name": "stdout",
     "output_type": "stream",
     "text": [
      "[2, 4, 'hello', 8, 10]\n"
     ]
    }
   ],
   "source": [
    "spam = [2, 4, 6, 8, 10]\n",
    " \n",
    "spam[2] = 'hello'\n",
    "print(spam)"
   ]
  },
  {
   "cell_type": "markdown",
   "id": "eeb9c271",
   "metadata": {},
   "source": [
    "3. What is the value of spam[int(int('3' * 2) / 11)]?\n"
   ]
  },
  {
   "cell_type": "code",
   "execution_count": 8,
   "id": "88d9707b",
   "metadata": {},
   "outputs": [
    {
     "data": {
      "text/plain": [
       "[2, 4]"
      ]
     },
     "execution_count": 8,
     "metadata": {},
     "output_type": "execute_result"
    }
   ],
   "source": [
    "spam = [2, 4, 6, 8, 10]\n",
    "#spam[int(int('3' * 2) / 11)] \n",
    "# answer = 8\n",
    "spam[:2]"
   ]
  },
  {
   "cell_type": "markdown",
   "id": "7df2cd4a",
   "metadata": {},
   "source": [
    "4. What is the value of spam[-1]?\n",
    "\n",
    "    answer = 10"
   ]
  },
  {
   "cell_type": "markdown",
   "id": "945c17f2",
   "metadata": {},
   "source": [
    "5. What is the value of spam[:2]?\n",
    "   Answer = [2, 4]"
   ]
  },
  {
   "cell_type": "markdown",
   "id": "2956b265",
   "metadata": {},
   "source": [
    "Let's pretend bacon has the list [3.14, 'cat,' 11, 'cat,' True] for the next three questions.\n",
    "\n",
    "\n",
    "6. What is the value of bacon.index('cat')?\n"
   ]
  },
  {
   "cell_type": "markdown",
   "id": "f4da70f0",
   "metadata": {},
   "source": [
    "bacon = [3.14, 'cat,' 11, 'cat,' True]\n",
    "\n",
    "if it is same list that provided in question that will return invalid syntax cause there is a string error if it changes to below list then the answer  is  1\n",
    "bacon = [3.14, 'cat', 11, 'cat', True]"
   ]
  },
  {
   "cell_type": "markdown",
   "id": "ce060740",
   "metadata": {},
   "source": [
    "7. How does bacon.append(99) change the look of the list value in bacon?\n"
   ]
  },
  {
   "cell_type": "code",
   "execution_count": 13,
   "id": "19658ff6",
   "metadata": {},
   "outputs": [
    {
     "data": {
      "text/plain": [
       "[3.14, 'cat', 11, 'cat', True, 99]"
      ]
     },
     "execution_count": 13,
     "metadata": {},
     "output_type": "execute_result"
    }
   ],
   "source": [
    "bacon = [3.14, 'cat', 11, 'cat', True]\n",
    "bacon.append(99)\n",
    "bacon\n",
    "#answer = [3.14, 'cat', 11, 'cat', True, 99]"
   ]
  },
  {
   "cell_type": "code",
   "execution_count": null,
   "id": "4e344d06",
   "metadata": {},
   "outputs": [],
   "source": [
    "8. How does bacon.remove('cat') change the look of the list in bacon?\n"
   ]
  },
  {
   "cell_type": "code",
   "execution_count": 14,
   "id": "11747493",
   "metadata": {},
   "outputs": [
    {
     "data": {
      "text/plain": [
       "[3.14, 11, 'cat', True, 99]"
      ]
     },
     "execution_count": 14,
     "metadata": {},
     "output_type": "execute_result"
    }
   ],
   "source": [
    "bacon.remove('cat')\n",
    "bacon\n",
    "#answer = [3.14, 11, 'cat', True, 99]"
   ]
  },
  {
   "cell_type": "markdown",
   "id": "8344148b",
   "metadata": {},
   "source": [
    "9. What are the list concatenation and list replication operators?\n",
    "\n",
    "\n",
    "   Answer: The operator for list concatenation is +, while the operator for replication is *."
   ]
  },
  {
   "cell_type": "markdown",
   "id": "7dd7025a",
   "metadata": {},
   "source": [
    "10. What is difference between the list methods append() and insert()?\n",
    "\n",
    "     Answer: While append() will add values only to the end of a list, insert() can add them anywhere in the list.\n"
   ]
  },
  {
   "cell_type": "markdown",
   "id": "ae38c7be",
   "metadata": {},
   "source": [
    "11. What are the two methods for removing items from a list?\n",
    "\n",
    "    Answer: The del statement and the remove() list method are two ways to remove values from a list."
   ]
  },
  {
   "cell_type": "markdown",
   "id": "d33ab4e3",
   "metadata": {},
   "source": [
    "12. Describe how list values and string values are identical.\n",
    "\n",
    "   \n",
    "    Answer:  Both lists and strings can be passed to len(), have indexes and slices, be used in for loops, be                      concatenated or replicated, and be used with the in and not in operators.\n"
   ]
  },
  {
   "cell_type": "markdown",
   "id": "2a48d9be",
   "metadata": {},
   "source": [
    "13. What's the difference between tuples and lists?\n",
    "\n",
    "    Answer: Lists are mutable, they can have values added, removed, or changed. Tuples are immutable; they cannot be               changed at all. \n",
    "            Also, tuples are written using parentheses, ( and ), while lists use the square brackets, [ and ].\n"
   ]
  },
  {
   "cell_type": "markdown",
   "id": "6aa60ce5",
   "metadata": {},
   "source": [
    "14. How do you type a tuple value that only contains the integer 42?\n",
    "\n",
    "    Answer: (42,)\n",
    "    "
   ]
  },
  {
   "cell_type": "markdown",
   "id": "14cffd53",
   "metadata": {},
   "source": [
    "15. How do you get a list value's tuple form? How do you get a tuple value's list form?\n",
    "    \n",
    "    \n",
    "    Answer: The tuple() and list() functions, respectively\n",
    "\n",
    "\n",
    "\n"
   ]
  },
  {
   "cell_type": "markdown",
   "id": "32ab7fc7",
   "metadata": {},
   "source": [
    "16. Variables that \"contain\" list values are not necessarily lists themselves. Instead, what do they contain?\n",
    "\n",
    "     Answer: They contain references to list values"
   ]
  },
  {
   "cell_type": "markdown",
   "id": "cfe0b64a",
   "metadata": {},
   "source": [
    "17. How do you distinguish between copy.copy() and copy.deepcopy()?\n",
    "\n",
    "    Answer: The copy.copy() function will do a shallow copy of a list, while the copy.deepcopy() function will do a               deep copy of a list. That is, only copy.deepcopy() will duplicate any lists inside the list."
   ]
  },
  {
   "cell_type": "code",
   "execution_count": null,
   "id": "5c6bb5ef",
   "metadata": {},
   "outputs": [],
   "source": []
  },
  {
   "cell_type": "code",
   "execution_count": null,
   "id": "7395a597",
   "metadata": {},
   "outputs": [],
   "source": []
  },
  {
   "cell_type": "code",
   "execution_count": null,
   "id": "34be54f9",
   "metadata": {},
   "outputs": [],
   "source": []
  },
  {
   "cell_type": "code",
   "execution_count": null,
   "id": "fbb73ca4",
   "metadata": {},
   "outputs": [],
   "source": []
  },
  {
   "cell_type": "code",
   "execution_count": null,
   "id": "354f5a2d",
   "metadata": {},
   "outputs": [],
   "source": []
  }
 ],
 "metadata": {
  "kernelspec": {
   "display_name": "Python 3 (ipykernel)",
   "language": "python",
   "name": "python3"
  },
  "language_info": {
   "codemirror_mode": {
    "name": "ipython",
    "version": 3
   },
   "file_extension": ".py",
   "mimetype": "text/x-python",
   "name": "python",
   "nbconvert_exporter": "python",
   "pygments_lexer": "ipython3",
   "version": "3.9.12"
  }
 },
 "nbformat": 4,
 "nbformat_minor": 5
}
